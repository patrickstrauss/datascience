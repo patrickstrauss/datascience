{
 "cells": [
  {
   "cell_type": "markdown",
   "metadata": {
    "azdata_cell_guid": "18ccdfb1-d49d-4dc8-9041-b0a6ae66ac04"
   },
   "source": [
    "# Data Import Test"
   ]
  },
  {
   "cell_type": "code",
   "execution_count": 2,
   "metadata": {
    "azdata_cell_guid": "3fb97aeb-5f32-4d4c-bf78-d714f36ebc0f"
   },
   "outputs": [],
   "source": [
    "import pandas as pd\n",
    "import prose.codeaccelerator as cx"
   ]
  },
  {
   "cell_type": "markdown",
   "metadata": {
    "azdata_cell_guid": "86130da4-5b65-49e4-a29b-4bd052e02d56"
   },
   "source": [
    "Auto generate import code with prose library"
   ]
  },
  {
   "cell_type": "code",
   "execution_count": 3,
   "metadata": {
    "azdata_cell_guid": "d837f79d-bd1c-4f0f-9a39-557c61bdc447",
    "tags": []
   },
   "outputs": [
    {
     "data": {
      "text/plain": [
       "import pandas as pd\n",
       "\n",
       "\n",
       "def read_file(file):\n",
       "    names = [\n",
       "        \"column1\",\n",
       "        \"column2\",\n",
       "        \"column3\",\n",
       "        \"column4\",\n",
       "        \"column5\",\n",
       "        \"column6\",\n",
       "        \"column7\",\n",
       "        \"column8\",\n",
       "        \"column9\",\n",
       "        \"column10\",\n",
       "        \"column11\",\n",
       "    ]\n",
       "\n",
       "    df = pd.read_csv(\n",
       "        file,\n",
       "        skiprows=0,\n",
       "        header=None,\n",
       "        names=names,\n",
       "        quotechar='\"',\n",
       "        delimiter=\",\",\n",
       "        index_col=False,\n",
       "        dtype=str,\n",
       "        na_values=[],\n",
       "        keep_default_na=False,\n",
       "        skipinitialspace=True,\n",
       "    )\n",
       "\n",
       "    return df"
      ]
     },
     "execution_count": 3,
     "metadata": {},
     "output_type": "execute_result"
    }
   ],
   "source": [
    "filename = \"/Users/Patcharagit.Strauss/Desktop/test/sales.csv\"\n",
    "rcb = cx.ReadCsvBuilder(filename)\n",
    "rcb.learn().code()"
   ]
  },
  {
   "cell_type": "markdown",
   "metadata": {
    "azdata_cell_guid": "d0d5e803-c41b-4734-8c2f-631efb29654d"
   },
   "source": [
    "Execute auto generated code"
   ]
  },
  {
   "cell_type": "code",
   "execution_count": 4,
   "metadata": {
    "azdata_cell_guid": "bc38515b-0fba-420c-83d7-90b1c127eee0"
   },
   "outputs": [],
   "source": [
    "def read_file(file):\n",
    "    names = [\n",
    "        \"SalesOrderID\",\n",
    "        \"SalesOrderDetailID\",\n",
    "        \"CarierTrakcingNumber\",\n",
    "        \"OrderQty\",\n",
    "        \"ProductID\",\n",
    "        \"SpecialOfferID\",\n",
    "        \"UnitPrice\",\n",
    "        \"UnitPriceDiscount\",\n",
    "        \"LineTotal\",\n",
    "        \"rowguid\",\n",
    "        \"ModifiedDate\",\n",
    "    ]\n",
    "\n",
    "    df = pd.read_csv(\n",
    "        file,\n",
    "        skiprows=0,\n",
    "        header=None,\n",
    "        names=names,\n",
    "        quotechar='\"',\n",
    "        delimiter=\",\",\n",
    "        index_col=False,\n",
    "        dtype=str,\n",
    "        na_values=[],\n",
    "        keep_default_na=False,\n",
    "        skipinitialspace=True,\n",
    "    )\n",
    "\n",
    "    return df"
   ]
  },
  {
   "cell_type": "code",
   "execution_count": 5,
   "metadata": {
    "azdata_cell_guid": "a19be7f4-fb4b-4f8c-b42d-d0bd658f3b13",
    "tags": []
   },
   "outputs": [
    {
     "data": {
      "text/html": [
       "<div>\n",
       "<style scoped>\n",
       "    .dataframe tbody tr th:only-of-type {\n",
       "        vertical-align: middle;\n",
       "    }\n",
       "\n",
       "    .dataframe tbody tr th {\n",
       "        vertical-align: top;\n",
       "    }\n",
       "\n",
       "    .dataframe thead th {\n",
       "        text-align: right;\n",
       "    }\n",
       "</style>\n",
       "<table border=\"1\" class=\"dataframe\">\n",
       "  <thead>\n",
       "    <tr style=\"text-align: right;\">\n",
       "      <th></th>\n",
       "      <th>SalesOrderID</th>\n",
       "      <th>SalesOrderDetailID</th>\n",
       "      <th>CarierTrakcingNumber</th>\n",
       "      <th>OrderQty</th>\n",
       "      <th>ProductID</th>\n",
       "      <th>SpecialOfferID</th>\n",
       "      <th>UnitPrice</th>\n",
       "      <th>UnitPriceDiscount</th>\n",
       "      <th>LineTotal</th>\n",
       "      <th>rowguid</th>\n",
       "      <th>ModifiedDate</th>\n",
       "    </tr>\n",
       "  </thead>\n",
       "  <tbody>\n",
       "    <tr>\n",
       "      <th>0</th>\n",
       "      <td>43659</td>\n",
       "      <td>1</td>\n",
       "      <td>4911-403C-98</td>\n",
       "      <td>1</td>\n",
       "      <td>776</td>\n",
       "      <td>1</td>\n",
       "      <td>2024.9940</td>\n",
       "      <td>0.0000</td>\n",
       "      <td>2024.994000</td>\n",
       "      <td>b207c96d-d9e6-402b-8470-2cc176c42283</td>\n",
       "      <td>2011-05-31 00:00:00</td>\n",
       "    </tr>\n",
       "    <tr>\n",
       "      <th>1</th>\n",
       "      <td>43659</td>\n",
       "      <td>2</td>\n",
       "      <td>4911-403C-98</td>\n",
       "      <td>3</td>\n",
       "      <td>777</td>\n",
       "      <td>1</td>\n",
       "      <td>2024.9940</td>\n",
       "      <td>0.0000</td>\n",
       "      <td>6074.982000</td>\n",
       "      <td>7abb600d-1e77-41be-9fe5-b9142cfc08fa</td>\n",
       "      <td>2011-05-31 00:00:00</td>\n",
       "    </tr>\n",
       "    <tr>\n",
       "      <th>2</th>\n",
       "      <td>43659</td>\n",
       "      <td>3</td>\n",
       "      <td>4911-403C-98</td>\n",
       "      <td>1</td>\n",
       "      <td>778</td>\n",
       "      <td>1</td>\n",
       "      <td>2024.9940</td>\n",
       "      <td>0.0000</td>\n",
       "      <td>2024.994000</td>\n",
       "      <td>475cf8c6-49f6-486e-b0ad-afc6a50cdd2f</td>\n",
       "      <td>2011-05-31 00:00:00</td>\n",
       "    </tr>\n",
       "    <tr>\n",
       "      <th>3</th>\n",
       "      <td>43659</td>\n",
       "      <td>4</td>\n",
       "      <td>4911-403C-98</td>\n",
       "      <td>1</td>\n",
       "      <td>771</td>\n",
       "      <td>1</td>\n",
       "      <td>2039.9940</td>\n",
       "      <td>0.0000</td>\n",
       "      <td>2039.994000</td>\n",
       "      <td>04c4de91-5815-45d6-8670-f462719fbce3</td>\n",
       "      <td>2011-05-31 00:00:00</td>\n",
       "    </tr>\n",
       "    <tr>\n",
       "      <th>4</th>\n",
       "      <td>43659</td>\n",
       "      <td>5</td>\n",
       "      <td>4911-403C-98</td>\n",
       "      <td>1</td>\n",
       "      <td>772</td>\n",
       "      <td>1</td>\n",
       "      <td>2039.9940</td>\n",
       "      <td>0.0000</td>\n",
       "      <td>2039.994000</td>\n",
       "      <td>5a74c7d2-e641-438e-a7ac-37bf23280301</td>\n",
       "      <td>2011-05-31 00:00:00</td>\n",
       "    </tr>\n",
       "  </tbody>\n",
       "</table>\n",
       "</div>"
      ],
      "text/plain": [
       "  SalesOrderID SalesOrderDetailID CarierTrakcingNumber OrderQty ProductID  \\\n",
       "0        43659                  1         4911-403C-98        1       776   \n",
       "1        43659                  2         4911-403C-98        3       777   \n",
       "2        43659                  3         4911-403C-98        1       778   \n",
       "3        43659                  4         4911-403C-98        1       771   \n",
       "4        43659                  5         4911-403C-98        1       772   \n",
       "\n",
       "  SpecialOfferID  UnitPrice UnitPriceDiscount    LineTotal  \\\n",
       "0              1  2024.9940            0.0000  2024.994000   \n",
       "1              1  2024.9940            0.0000  6074.982000   \n",
       "2              1  2024.9940            0.0000  2024.994000   \n",
       "3              1  2039.9940            0.0000  2039.994000   \n",
       "4              1  2039.9940            0.0000  2039.994000   \n",
       "\n",
       "                                rowguid         ModifiedDate  \n",
       "0  b207c96d-d9e6-402b-8470-2cc176c42283  2011-05-31 00:00:00  \n",
       "1  7abb600d-1e77-41be-9fe5-b9142cfc08fa  2011-05-31 00:00:00  \n",
       "2  475cf8c6-49f6-486e-b0ad-afc6a50cdd2f  2011-05-31 00:00:00  \n",
       "3  04c4de91-5815-45d6-8670-f462719fbce3  2011-05-31 00:00:00  \n",
       "4  5a74c7d2-e641-438e-a7ac-37bf23280301  2011-05-31 00:00:00  "
      ]
     },
     "execution_count": 5,
     "metadata": {},
     "output_type": "execute_result"
    }
   ],
   "source": [
    "df = read_file(filename)\n",
    "df.head(5)"
   ]
  },
  {
   "cell_type": "markdown",
   "metadata": {
    "azdata_cell_guid": "d9ec67c2-eeeb-4bf1-9be4-c08c4d8cd30c"
   },
   "source": [
    "Eximining Data"
   ]
  },
  {
   "cell_type": "code",
   "execution_count": 7,
   "metadata": {
    "azdata_cell_guid": "b30ece3a-2401-4e38-9945-5954af477112"
   },
   "outputs": [
    {
     "data": {
      "text/plain": [
       "(5000, 11)"
      ]
     },
     "execution_count": 7,
     "metadata": {},
     "output_type": "execute_result"
    }
   ],
   "source": [
    "df.shape"
   ]
  },
  {
   "cell_type": "code",
   "execution_count": 12,
   "metadata": {
    "azdata_cell_guid": "f670f29d-d655-474a-b92e-6bf5cfebd5b6"
   },
   "outputs": [
    {
     "data": {
      "text/plain": [
       "SalesOrderID            0\n",
       "SalesOrderDetailID      0\n",
       "CarierTrakcingNumber    0\n",
       "OrderQty                0\n",
       "ProductID               0\n",
       "SpecialOfferID          0\n",
       "UnitPrice               0\n",
       "UnitPriceDiscount       0\n",
       "LineTotal               0\n",
       "rowguid                 0\n",
       "ModifiedDate            0\n",
       "dtype: int64"
      ]
     },
     "execution_count": 12,
     "metadata": {},
     "output_type": "execute_result"
    }
   ],
   "source": [
    "df.isna().sum()"
   ]
  },
  {
   "cell_type": "markdown",
   "metadata": {
    "azdata_cell_guid": "fcef4c7f-dbb2-412c-a136-da51e6c5c7e0"
   },
   "source": [
    "Check Data types"
   ]
  },
  {
   "cell_type": "code",
   "execution_count": 14,
   "metadata": {
    "azdata_cell_guid": "b7e57937-5f45-4faf-ac97-04695a491df0"
   },
   "outputs": [
    {
     "data": {
      "text/plain": [
       "SalesOrderID            object\n",
       "SalesOrderDetailID      object\n",
       "CarierTrakcingNumber    object\n",
       "OrderQty                object\n",
       "ProductID               object\n",
       "SpecialOfferID          object\n",
       "UnitPrice               object\n",
       "UnitPriceDiscount       object\n",
       "LineTotal               object\n",
       "rowguid                 object\n",
       "ModifiedDate            object\n",
       "dtype: object"
      ]
     },
     "execution_count": 14,
     "metadata": {},
     "output_type": "execute_result"
    }
   ],
   "source": [
    "df.dtypes"
   ]
  },
  {
   "cell_type": "markdown",
   "metadata": {
    "azdata_cell_guid": "dd5e53c0-0a50-4497-a12d-60301822dd7d"
   },
   "source": [
    "Covert object type columns to numeric type"
   ]
  },
  {
   "cell_type": "code",
   "execution_count": 17,
   "metadata": {
    "azdata_cell_guid": "6027ee9d-35c9-4ead-8d4f-27055c683dd5",
    "tags": []
   },
   "outputs": [],
   "source": [
    "df['OrderQty'] = pd.to_numeric(df['OrderQty'])\n",
    "df['UnitPrice'] = pd.to_numeric(df['UnitPrice'])\n",
    "df['UnitPriceDiscount'] = pd.to_numeric(df['UnitPriceDiscount'])\n",
    "df['LineTotal'] = pd.to_numeric(df['LineTotal'])"
   ]
  },
  {
   "cell_type": "code",
   "execution_count": 20,
   "metadata": {
    "azdata_cell_guid": "9b706c3e-50e8-49e2-a141-f613f656fccc"
   },
   "outputs": [
    {
     "data": {
      "text/plain": [
       "SalesOrderID             object\n",
       "SalesOrderDetailID       object\n",
       "CarierTrakcingNumber     object\n",
       "OrderQty                  int64\n",
       "ProductID                object\n",
       "SpecialOfferID           object\n",
       "UnitPrice               float64\n",
       "UnitPriceDiscount       float64\n",
       "LineTotal               float64\n",
       "rowguid                  object\n",
       "ModifiedDate             object\n",
       "dtype: object"
      ]
     },
     "execution_count": 20,
     "metadata": {},
     "output_type": "execute_result"
    }
   ],
   "source": [
    "df.dtypes"
   ]
  },
  {
   "cell_type": "markdown",
   "metadata": {
    "azdata_cell_guid": "9443a31a-05a2-4c87-9f7a-0bb48e55f0e3"
   },
   "source": [
    "Import Plot library"
   ]
  },
  {
   "cell_type": "code",
   "execution_count": 24,
   "metadata": {
    "azdata_cell_guid": "fec89122-ba67-4df8-8d1b-75ee69d8c995"
   },
   "outputs": [
    {
     "ename": "ModuleNotFoundError",
     "evalue": "No module named 'seaborn'",
     "output_type": "error",
     "traceback": [
      "\u001b[1;31m---------------------------------------------------------------------------\u001b[0m",
      "\u001b[1;31mModuleNotFoundError\u001b[0m                       Traceback (most recent call last)",
      "\u001b[1;32m<ipython-input-24-a84c0541e888>\u001b[0m in \u001b[0;36m<module>\u001b[1;34m\u001b[0m\n\u001b[1;32m----> 1\u001b[1;33m \u001b[1;32mimport\u001b[0m \u001b[0mseaborn\u001b[0m \u001b[1;32mas\u001b[0m \u001b[0msns\u001b[0m\u001b[1;33m\u001b[0m\u001b[0m\n\u001b[0m",
      "\u001b[1;31mModuleNotFoundError\u001b[0m: No module named 'seaborn'"
     ]
    }
   ],
   "source": [
    "import seaborn as sns"
   ]
  }
 ],
 "metadata": {
  "kernelspec": {
   "display_name": "Python 3",
   "language": "python",
   "name": "python3"
  },
  "language_info": {
   "codemirror_mode": {
    "name": "ipython",
    "version": 3
   },
   "file_extension": ".py",
   "mimetype": "text/x-python",
   "name": "python",
   "nbconvert_exporter": "python",
   "pygments_lexer": "ipython3",
   "version": "3.7.4"
  }
 },
 "nbformat": 4,
 "nbformat_minor": 2
}
