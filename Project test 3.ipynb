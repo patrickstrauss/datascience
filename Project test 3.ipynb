{
 "cells": [
  {
   "cell_type": "markdown",
   "metadata": {},
   "source": [
    "## Project test 3"
   ]
  },
  {
   "cell_type": "code",
   "execution_count": 1,
   "metadata": {},
   "outputs": [],
   "source": [
    "#Import tools\n",
    "import pandas as pd\n",
    "import numpy as np\n",
    "import itertools\n",
    "import warnings\n",
    "warnings.filterwarnings('ignore')\n",
    "import matplotlib.pyplot as plt\n",
    "from datetime import datetime\n",
    "import statsmodels.api as sm\n",
    "from pylab import rcParams\n",
    "#Set style to Seaborn\n",
    "import seaborn as sns; sns.set()"
   ]
  },
  {
   "cell_type": "markdown",
   "metadata": {},
   "source": [
    "##### Loading dataset"
   ]
  },
  {
   "cell_type": "code",
   "execution_count": 2,
   "metadata": {},
   "outputs": [],
   "source": [
    "data = pd.read_csv('energy_dataset.csv')"
   ]
  },
  {
   "cell_type": "code",
   "execution_count": 3,
   "metadata": {},
   "outputs": [
    {
     "data": {
      "text/html": [
       "<div>\n",
       "<style scoped>\n",
       "    .dataframe tbody tr th:only-of-type {\n",
       "        vertical-align: middle;\n",
       "    }\n",
       "\n",
       "    .dataframe tbody tr th {\n",
       "        vertical-align: top;\n",
       "    }\n",
       "\n",
       "    .dataframe thead th {\n",
       "        text-align: right;\n",
       "    }\n",
       "</style>\n",
       "<table border=\"1\" class=\"dataframe\">\n",
       "  <thead>\n",
       "    <tr style=\"text-align: right;\">\n",
       "      <th></th>\n",
       "      <th>Date</th>\n",
       "      <th>Residential</th>\n",
       "      <th>Business</th>\n",
       "      <th>Industrial</th>\n",
       "      <th>Government and Non-Profit</th>\n",
       "      <th>Agriculture</th>\n",
       "      <th>Other</th>\n",
       "      <th>Total</th>\n",
       "      <th>Free of Charge</th>\n",
       "      <th>Grand Total</th>\n",
       "    </tr>\n",
       "  </thead>\n",
       "  <tbody>\n",
       "    <tr>\n",
       "      <th>0</th>\n",
       "      <td>JAN 2002</td>\n",
       "      <td>1524</td>\n",
       "      <td>1397</td>\n",
       "      <td>3977</td>\n",
       "      <td>246</td>\n",
       "      <td>19</td>\n",
       "      <td>85</td>\n",
       "      <td>7249</td>\n",
       "      <td>78</td>\n",
       "      <td>7327</td>\n",
       "    </tr>\n",
       "    <tr>\n",
       "      <th>1</th>\n",
       "      <td>FEB 2002</td>\n",
       "      <td>1597</td>\n",
       "      <td>1421</td>\n",
       "      <td>3890</td>\n",
       "      <td>260</td>\n",
       "      <td>26</td>\n",
       "      <td>91</td>\n",
       "      <td>7285</td>\n",
       "      <td>74</td>\n",
       "      <td>7359</td>\n",
       "    </tr>\n",
       "    <tr>\n",
       "      <th>2</th>\n",
       "      <td>MAR 2002</td>\n",
       "      <td>1842</td>\n",
       "      <td>1626</td>\n",
       "      <td>4511</td>\n",
       "      <td>301</td>\n",
       "      <td>24</td>\n",
       "      <td>92</td>\n",
       "      <td>8395</td>\n",
       "      <td>76</td>\n",
       "      <td>8471</td>\n",
       "    </tr>\n",
       "    <tr>\n",
       "      <th>3</th>\n",
       "      <td>APR 2002</td>\n",
       "      <td>2049</td>\n",
       "      <td>1660</td>\n",
       "      <td>4234</td>\n",
       "      <td>287</td>\n",
       "      <td>23</td>\n",
       "      <td>122</td>\n",
       "      <td>8375</td>\n",
       "      <td>86</td>\n",
       "      <td>8461</td>\n",
       "    </tr>\n",
       "    <tr>\n",
       "      <th>4</th>\n",
       "      <td>MAY 2002</td>\n",
       "      <td>1990</td>\n",
       "      <td>1664</td>\n",
       "      <td>4589</td>\n",
       "      <td>306</td>\n",
       "      <td>15</td>\n",
       "      <td>90</td>\n",
       "      <td>8653</td>\n",
       "      <td>77</td>\n",
       "      <td>8730</td>\n",
       "    </tr>\n",
       "  </tbody>\n",
       "</table>\n",
       "</div>"
      ],
      "text/plain": [
       "            Date  Residential  Business  Industrial  \\\n",
       "0       JAN 2002         1524      1397        3977   \n",
       "1       FEB 2002         1597      1421        3890   \n",
       "2       MAR 2002         1842      1626        4511   \n",
       "3       APR 2002         2049      1660        4234   \n",
       "4       MAY 2002         1990      1664        4589   \n",
       "\n",
       "   Government and Non-Profit  Agriculture  Other  Total  Free of Charge  \\\n",
       "0                        246           19     85   7249              78   \n",
       "1                        260           26     91   7285              74   \n",
       "2                        301           24     92   8395              76   \n",
       "3                        287           23    122   8375              86   \n",
       "4                        306           15     90   8653              77   \n",
       "\n",
       "   Grand Total  \n",
       "0         7327  \n",
       "1         7359  \n",
       "2         8471  \n",
       "3         8461  \n",
       "4         8730  "
      ]
     },
     "execution_count": 3,
     "metadata": {},
     "output_type": "execute_result"
    }
   ],
   "source": [
    "data.head()"
   ]
  },
  {
   "cell_type": "code",
   "execution_count": 4,
   "metadata": {},
   "outputs": [
    {
     "data": {
      "image/png": "[encoded data removed]",
      "text/plain": [
       "<Figure size 432x288 with 1 Axes>"
      ]
     },
     "metadata": {
      "needs_background": "light"
     },
     "output_type": "display_data"
    }
   ],
   "source": [
    "data['Residential'].hist(bins=30);"
   ]
  },
  {
   "cell_type": "code",
   "execution_count": 5,
   "metadata": {},
   "outputs": [
    {
     "name": "stdout",
     "output_type": "stream",
     "text": [
      "200\n",
      "107\n"
     ]
    }
   ],
   "source": [
    "Res1 = np.count_nonzero(data['Residential']>1700)\n",
    "Res2 = np.count_nonzero(data['Residential']<2700)\n",
    "print(Res1)\n",
    "print(Res2)"
   ]
  },
  {
   "cell_type": "code",
   "execution_count": 6,
   "metadata": {},
   "outputs": [
    {
     "data": {
      "text/plain": [
       "0.5441176470588236"
      ]
     },
     "execution_count": 6,
     "metadata": {},
     "output_type": "execute_result"
    }
   ],
   "source": [
    "1-((Res1-Res2)/204)"
   ]
  },
  {
   "cell_type": "raw",
   "metadata": {},
   "source": [
    "54% of data is under the range of 1700-2700. Data distribution is somewhat normal."
   ]
  },
  {
   "cell_type": "code",
   "execution_count": 7,
   "metadata": {},
   "outputs": [
    {
     "data": {
      "image/png": "[encoded data removed]",
      "text/plain": [
       "<Figure size 432x288 with 1 Axes>"
      ]
     },
     "metadata": {
      "needs_background": "light"
     },
     "output_type": "display_data"
    }
   ],
   "source": [
    "data['Business'].hist(bins=30);"
   ]
  },
  {
   "cell_type": "raw",
   "metadata": {},
   "source": [
    "A lot of data values fall under the range of 2400-2500. Data distribution is not normal"
   ]
  },
  {
   "cell_type": "code",
   "execution_count": 8,
   "metadata": {},
   "outputs": [
    {
     "data": {
      "image/png": "[encoded data removed]",
      "text/plain": [
       "<Figure size 432x288 with 1 Axes>"
      ]
     },
     "metadata": {
      "needs_background": "light"
     },
     "output_type": "display_data"
    }
   ],
   "source": [
    "data['Industrial'].hist(bins=30);"
   ]
  },
  {
   "cell_type": "code",
   "execution_count": 9,
   "metadata": {},
   "outputs": [
    {
     "name": "stdout",
     "output_type": "stream",
     "text": [
      "134\n",
      "184\n"
     ]
    }
   ],
   "source": [
    "Res1 = np.count_nonzero(data['Industrial']>5800)\n",
    "Res2 = np.count_nonzero(data['Industrial']<7400)\n",
    "print(Res1)\n",
    "print(Res2)"
   ]
  },
  {
   "cell_type": "code",
   "execution_count": 10,
   "metadata": {},
   "outputs": [
    {
     "data": {
      "text/plain": [
       "0.7549019607843137"
      ]
     },
     "execution_count": 10,
     "metadata": {},
     "output_type": "execute_result"
    }
   ],
   "source": [
    "1-((Res2-Res1)/204)"
   ]
  },
  {
   "cell_type": "raw",
   "metadata": {},
   "source": [
    "75% of data is under the range of 5800-7400. Data distribution is not normal."
   ]
  },
  {
   "cell_type": "code",
   "execution_count": 11,
   "metadata": {},
   "outputs": [
    {
     "data": {
      "image/png": "[encoded data removed]",
      "text/plain": [
       "<Figure size 432x288 with 1 Axes>"
      ]
     },
     "metadata": {
      "needs_background": "light"
     },
     "output_type": "display_data"
    }
   ],
   "source": [
    "data['Government and Non-Profit'].hist(bins=30);"
   ]
  },
  {
   "cell_type": "code",
   "execution_count": 12,
   "metadata": {},
   "outputs": [
    {
     "data": {
      "text/plain": [
       "75"
      ]
     },
     "execution_count": 12,
     "metadata": {},
     "output_type": "execute_result"
    }
   ],
   "source": [
    "np.count_nonzero(data['Government and Non-Profit']<100)"
   ]
  },
  {
   "cell_type": "raw",
   "metadata": {},
   "source": [
    "75 datas are under the range of 100. Data distribution is not normal."
   ]
  },
  {
   "cell_type": "code",
   "execution_count": 13,
   "metadata": {},
   "outputs": [
    {
     "data": {
      "image/png": "[encoded data removed]",
      "text/plain": [
       "<Figure size 432x288 with 1 Axes>"
      ]
     },
     "metadata": {
      "needs_background": "light"
     },
     "output_type": "display_data"
    }
   ],
   "source": [
    "data['Agriculture'].hist(bins=30);"
   ]
  },
  {
   "cell_type": "code",
   "execution_count": 18,
   "metadata": {},
   "outputs": [
    {
     "name": "stdout",
     "output_type": "stream",
     "text": [
      "184\n",
      "163\n"
     ]
    }
   ],
   "source": [
    "Res1 = np.count_nonzero(data['Agriculture']>10)\n",
    "Res2 = np.count_nonzero(data['Agriculture']<35)\n",
    "print(Res1)\n",
    "print(Res2)"
   ]
  },
  {
   "cell_type": "code",
   "execution_count": 20,
   "metadata": {},
   "outputs": [
    {
     "data": {
      "text/plain": [
       "0.8970588235294118"
      ]
     },
     "execution_count": 20,
     "metadata": {},
     "output_type": "execute_result"
    }
   ],
   "source": [
    "1-((Res1-Res2)/204)"
   ]
  },
  {
   "cell_type": "raw",
   "metadata": {},
   "source": [
    "90% of data is under the range of 10-35. Data distribution is normal."
   ]
  },
  {
   "cell_type": "code",
   "execution_count": 22,
   "metadata": {},
   "outputs": [
    {
     "data": {
      "image/png": "[encoded data removed]",
      "text/plain": [
       "<Figure size 432x288 with 1 Axes>"
      ]
     },
     "metadata": {
      "needs_background": "light"
     },
     "output_type": "display_data"
    }
   ],
   "source": [
    "data['Other'].hist(bins=30);"
   ]
  },
  {
   "cell_type": "code",
   "execution_count": 35,
   "metadata": {},
   "outputs": [
    {
     "name": "stdout",
     "output_type": "stream",
     "text": [
      "87\n",
      "192\n"
     ]
    }
   ],
   "source": [
    "Res1 = np.count_nonzero(data['Other']>280)\n",
    "Res2 = np.count_nonzero(data['Other']<360)\n",
    "print(Res1)\n",
    "print(Res2)"
   ]
  },
  {
   "cell_type": "code",
   "execution_count": 37,
   "metadata": {},
   "outputs": [
    {
     "data": {
      "text/plain": [
       "0.4852941176470589"
      ]
     },
     "execution_count": 37,
     "metadata": {},
     "output_type": "execute_result"
    }
   ],
   "source": [
    "1-((Res2-Res1)/204)"
   ]
  },
  {
   "cell_type": "raw",
   "metadata": {},
   "source": [
    "49% of data is under the range of 280-360. Data distribution is not normal."
   ]
  },
  {
   "cell_type": "code",
   "execution_count": 17,
   "metadata": {},
   "outputs": [
    {
     "data": {
      "image/png": "[encoded data removed]",
      "text/plain": [
       "<Figure size 432x288 with 1 Axes>"
      ]
     },
     "metadata": {
      "needs_background": "light"
     },
     "output_type": "display_data"
    }
   ],
   "source": [
    "data['Total'].hist(bins=30);"
   ]
  },
  {
   "cell_type": "raw",
   "metadata": {},
   "source": [
    "Data distribution is normal"
   ]
  },
  {
   "cell_type": "code",
   "execution_count": null,
   "metadata": {},
   "outputs": [],
   "source": []
  }
 ],
 "metadata": {
  "kernelspec": {
   "display_name": "Python 3",
   "language": "python",
   "name": "python3"
  },
  "language_info": {
   "codemirror_mode": {
    "name": "ipython",
    "version": 3
   },
   "file_extension": ".py",
   "mimetype": "text/x-python",
   "name": "python",
   "nbconvert_exporter": "python",
   "pygments_lexer": "ipython3",
   "version": "3.7.3"
  }
 },
 "nbformat": 4,
 "nbformat_minor": 2
}
