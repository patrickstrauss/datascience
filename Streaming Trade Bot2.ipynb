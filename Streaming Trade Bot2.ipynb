{
 "cells": [
  {
   "cell_type": "code",
   "execution_count": 1,
   "id": "d8eb6294",
   "metadata": {},
   "outputs": [],
   "source": [
    "import settrade.openapi\n",
    "from settrade.openapi import Investor\n",
    "import pandas as pd\n",
    "import numpy as np\n",
    "import plotly.graph_objects as go\n",
    "from pandasql import sqldf\n",
    "import sys\n",
    "import math"
   ]
  },
  {
   "cell_type": "code",
   "execution_count": 2,
   "id": "5f78dbd5",
   "metadata": {},
   "outputs": [],
   "source": [
    "##Login to Sandbox mode\n",
    "investor = Investor(\n",
    "                app_id=\"XoBfocVqAVjcCW60\",                                 # Your app ID\n",
    "                app_secret=\"RhF+aTawun2pPBivTesYb9ENMuv+E9zvnj3umyMjM0E=\", # Your app Secret\n",
    "                broker_id=\"SANDBOX\",                                           \n",
    "                app_code=\"SANDBOX\",\n",
    "                is_auto_queue = False)"
   ]
  },
  {
   "cell_type": "code",
   "execution_count": 3,
   "id": "dc0d9981",
   "metadata": {},
   "outputs": [],
   "source": [
    "#equity for placing orders\n",
    "eq = investor.Equity(account_no=\"1026090-E\")"
   ]
  },
  {
   "cell_type": "code",
   "execution_count": 4,
   "id": "7c44ac26",
   "metadata": {},
   "outputs": [],
   "source": [
    "#get historical market data\n",
    "market = investor.MarketData()\n",
    "\n",
    "#get real time data\n",
    "realtime = investor.RealtimeDataConnection()"
   ]
  },
  {
   "cell_type": "code",
   "execution_count": 5,
   "id": "ef09b672",
   "metadata": {},
   "outputs": [],
   "source": [
    "symbols = [\"RJH\",\"VIH\",\"PTTEP\",\"NER\",\"TNP\",\"EKH\",\"VNT\",\"BCH\",\"CHG\",\"RPH\",\"2s\",\"KUN\",\"SPVI\",\"IFS\",\"RAM\",\"AUCT\",\"CGH\",\"BIZ\",\"SNC\",\"RCL\"]"
   ]
  },
  {
   "cell_type": "code",
   "execution_count": 6,
   "id": "a9548eb5",
   "metadata": {},
   "outputs": [],
   "source": [
    "def place_buy_order(symbol,price):\n",
    "    #get balance\n",
    "    account_info = eq.get_account_info()\n",
    "    balance = account_info[\"data\"][\"cash_balance\"]\n",
    "    \n",
    "    #set volume size\n",
    "    volume = 100\n",
    "    \n",
    "    #caculate cost\n",
    "    cost = price * volume\n",
    "    \n",
    "    if cost <= balance:\n",
    "        #place order\n",
    "        eq.place_order(symbol=symbol,price_type=\"LIMIT\",price=price,volume=volume,side=\"buy\",pin=\"000000\")\n",
    "        \n",
    "        account_info = eq.get_account_info()\n",
    "        balance = account_info[\"data\"][\"cash_balance\"]\n",
    "        print(\"order made\")\n",
    "        print(\"symbol: \",symbol)\n",
    "        print(\"cost: \",cost)"
   ]
  },
  {
   "cell_type": "code",
   "execution_count": 7,
   "id": "85f212d3",
   "metadata": {},
   "outputs": [],
   "source": [
    "def place_sell_order(symbol,price):\n",
    "    #get porfolio\n",
    "    portfolio = eq.get_portfolio()\n",
    "    \n",
    "    #set volume size\n",
    "    volume = 100\n",
    "    \n",
    "    #check if symbol is in profit\n",
    "    for x in portfolio:\n",
    "        if x[\"symbol\"] == symbol:\n",
    "            if x[\"percent_profit\"] > 100:\n",
    "                #place order\n",
    "                eq.place_order(symbol=symbol,price_type=\"LIMIT\",price=price,volume=volume,side=\"sell\",pin=\"000000\")"
   ]
  },
  {
   "cell_type": "code",
   "execution_count": 8,
   "id": "78723df9",
   "metadata": {},
   "outputs": [],
   "source": [
    "def check_signal(symbol):\n",
    "    #get candle data for each symbol\n",
    "    candle_data = market.get_candlestick(symbol=symbol,interval=\"1d\")\n",
    "    \n",
    "    #create dataframe with candle data\n",
    "    df = pd.DataFrame()\n",
    "    df[\"time\"] = pd.to_datetime(candle_data[\"data\"][\"time\"],unit='s')\n",
    "    df[\"open\"] = candle_data[\"data\"][\"open\"]\n",
    "    df[\"close\"] = candle_data[\"data\"][\"close\"]\n",
    "    df[\"high\"] = candle_data[\"data\"][\"high\"]\n",
    "    df[\"low\"] = candle_data[\"data\"][\"low\"]\n",
    "    df[\"volume\"] = candle_data[\"data\"][\"volume\"]\n",
    "    df = df.set_index(\"time\")\n",
    "    \n",
    "    #create new columns\n",
    "    df[\"middle_band\"] = df[\"close\"].rolling(window=20).mean()\n",
    "    df[\"upper_band\"] = df[\"middle_band\"] + 1.96 * df[\"close\"].rolling(window=20).std()\n",
    "    df[\"lower_band\"] = df[\"middle_band\"] - 1.96 * df[\"close\"].rolling(window=20).std()\n",
    "    \n",
    "    #create signals\n",
    "    df.loc[df[\"close\"] < (df[\"middle_band\"] * 0.7), \"signal\"] = \"buy\"\n",
    "    df.loc[df[\"close\"] > (df[\"middle_band\"] * 1.2), \"signal\"] = \"sell\"\n",
    "    df.loc[(df[\"signal\"] != \"buy\") & (df[\"signal\"] != \"sell\"), \"signal\"] = \"neutral\"\n",
    "    \n",
    "    #get latest signal and closing price\n",
    "    last_signal = df.tail().iloc[0][\"signal\"]\n",
    "    last_close_price = df.tail().iloc[0][\"close\"]\n",
    "    \n",
    "    #get realtime price for the symbol\n",
    "    sub = realtime.subscribe_price_info(symbol=symbol,on_message=my_message)\n",
    "    sub.start()\n",
    "    \n",
    "    #handle buy case\n",
    "    if last_signal == \"buy\":\n",
    "        if last_realtime_price <= last_close_price and last_realtime_price != 0.0:\n",
    "            print(symbol,\": buy signal\")\n",
    "            place_buy_order(symbol,last_realtime_price)\n",
    "    #handle sell case\n",
    "    elif last_signal == \"sell\":\n",
    "        if last_realtime_price >= last_close_price and last_realtime_price != 0.0:\n",
    "            print(symbol,\": sell singal\")\n",
    "    #handle case neutral\n",
    "    elif last_realtime_price == 0:\n",
    "        print(\"market for symbol \", symbol, \" is close\")\n",
    "    else:\n",
    "        print(symbol,\": netural\")\n",
    "            \n",
    "    #stop realtime price subscription\n",
    "    sub.stop()\n"
   ]
  },
  {
   "cell_type": "code",
   "execution_count": 9,
   "id": "71a7e49c",
   "metadata": {},
   "outputs": [],
   "source": [
    "def get_signal_for_stocks(symbols):\n",
    "    for symbol in symbols:\n",
    "        check_signal(symbol)"
   ]
  },
  {
   "cell_type": "code",
   "execution_count": 10,
   "id": "d4af49d9",
   "metadata": {},
   "outputs": [],
   "source": [
    "def my_message(result, subscriber):\n",
    "    global last_realtime_price\n",
    "    last_realtime_price = result['data']['last']"
   ]
  },
  {
   "cell_type": "code",
   "execution_count": 11,
   "id": "bda075bd",
   "metadata": {},
   "outputs": [
    {
     "name": "stdout",
     "output_type": "stream",
     "text": [
      "market for symbol  RJH  is close\n",
      "market for symbol  VIH  is close\n",
      "market for symbol  PTTEP  is close\n",
      "market for symbol  EKH  is close\n",
      "market for symbol  VNT  is close\n",
      "market for symbol  BCH  is close\n",
      "market for symbol  CHG  is close\n",
      "market for symbol  RPH  is close\n",
      "market for symbol  2s  is close\n",
      "market for symbol  IFS  is close\n",
      "market for symbol  RAM  is close\n",
      "market for symbol  AUCT  is close\n",
      "market for symbol  CGH  is close\n",
      "market for symbol  SNC  is close\n"
     ]
    }
   ],
   "source": [
    "#set global variable\n",
    "last_realtime_price = 0\n",
    "\n",
    "#run main function\n",
    "get_signal_for_stocks(symbols)"
   ]
  },
  {
   "cell_type": "code",
   "execution_count": null,
   "id": "07c42247",
   "metadata": {},
   "outputs": [],
   "source": []
  }
 ],
 "metadata": {
  "kernelspec": {
   "display_name": "Python 3 (ipykernel)",
   "language": "python",
   "name": "python3"
  },
  "language_info": {
   "codemirror_mode": {
    "name": "ipython",
    "version": 3
   },
   "file_extension": ".py",
   "mimetype": "text/x-python",
   "name": "python",
   "nbconvert_exporter": "python",
   "pygments_lexer": "ipython3",
   "version": "3.7.11"
  }
 },
 "nbformat": 4,
 "nbformat_minor": 5
}
